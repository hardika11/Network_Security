{
 "cells": [
  {
   "cell_type": "code",
   "execution_count": 7,
   "metadata": {},
   "outputs": [
    {
     "name": "stdout",
     "output_type": "stream",
     "text": [
      "RC4 Cipher!\n",
      "==========Encryption==========\n",
      "Enter plaintext: Hello\n",
      "Enter Key: 9183\n",
      "Encrypted Text:\n",
      "60 08 de 2c 24\n",
      "==========Decryption==========\n",
      "Decrypted text:\n",
      "['H', 'e', 'l', 'l', 'o']\n"
     ]
    }
   ],
   "source": [
    "state = [None] * 256\n",
    "p = q = None\n",
    "\n",
    "def sKey(key):\n",
    "    global p,q,state\n",
    "    state = [x for x in range(256)]\n",
    "    p = q = j = 0\n",
    "    for i in range(256):\n",
    "        if len(key)>0:\n",
    "            j = (j+state[i] + key[i % len(key)]) %256\n",
    "        else:\n",
    "            j = (j+ state[i]) %256\n",
    "        state[i], state[j] = state[j], state[i]\n",
    "        \n",
    "def byteGen():\n",
    "    global p,q, state\n",
    "    p = (p+1)%256\n",
    "    q = (q + state[p]) %256\n",
    "    state[p], state[q] = state[q], state[p]\n",
    "    return state[(state[p]+state[q]) %256]\n",
    "\n",
    "def str_list(inputString):\n",
    "    return [ord(c) for c in inputString]\n",
    "\n",
    "def encrypt(plaintext, key):\n",
    "    sKey(str_list(key))\n",
    "    ArrayOp = [ord(x) ^ byteGen() for x in plaintext]\n",
    "    return (ArrayOp)\n",
    "\n",
    "def tohex(ArrayOp):\n",
    "    arr = []\n",
    "    for i in ArrayOp:\n",
    "        arr.append(\"%02x\"%i)\n",
    "    return \" \".join(arr)\n",
    "\n",
    "def decrypt(ciphertxt, key):\n",
    "    return encrypt(ciphertxt, key)\n",
    "\n",
    "def main():\n",
    "    print(\"RC4 Cipher!\")\n",
    "    print(\"==========Encryption==========\")\n",
    "    plaintext = input(\"Enter plaintext: \")\n",
    "    key = input(\"Enter Key: \")\n",
    "    print(\"Encrypted Text:\")\n",
    "    ct = (encrypt(plaintext, key))\n",
    "    x = [chr(x) for x in ct]\n",
    "    #print(x)\n",
    "    print(tohex(ct))\n",
    "    \n",
    "    print(\"==========Decryption==========\")\n",
    "    plaint = decrypt(x,key)\n",
    "#     print(plaint)\n",
    "    x=[chr(x) for x in plaint]\n",
    "    print(\"Decrypted text:\")\n",
    "    print(x)\n",
    "\n",
    "if __name__ == \"__main__\":\n",
    "    main()"
   ]
  },
  {
   "cell_type": "code",
   "execution_count": null,
   "metadata": {},
   "outputs": [],
   "source": []
  }
 ],
 "metadata": {
  "kernelspec": {
   "display_name": "Python 3",
   "language": "python",
   "name": "python3"
  },
  "language_info": {
   "codemirror_mode": {
    "name": "ipython",
    "version": 3
   },
   "file_extension": ".py",
   "mimetype": "text/x-python",
   "name": "python",
   "nbconvert_exporter": "python",
   "pygments_lexer": "ipython3",
   "version": "3.7.6"
  }
 },
 "nbformat": 4,
 "nbformat_minor": 4
}
