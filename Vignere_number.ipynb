{
 "cells": [
  {
   "cell_type": "code",
   "execution_count": 3,
   "metadata": {},
   "outputs": [
    {
     "name": "stdout",
     "output_type": "stream",
     "text": [
      "Key and Message can only be alphabetic\n",
      "1. Encryption\n",
      "2. Decryption\n",
      "Choose(1,2): 2\n",
      "Decryption\n",
      "Enter Cipher Text: rlpwz\n",
      "Enter your key: 10\n",
      "Plain Text Message is: hello\n"
     ]
    }
   ],
   "source": [
    "def encr(pt,key):\n",
    "    cipher =''\n",
    "    for i in range(0,len(pt)):\n",
    "        no = ord(pt[i])\n",
    "        f = chr(((no-97 + key)%26)+97)\n",
    "        cipher += f\n",
    "        key = ord(pt[i])-97\n",
    "    \n",
    "    print(\"Encrypted Message: {}\".format(cipher))\n",
    "    \n",
    "def decr(ct,key):\n",
    "    plain =''\n",
    "    for i in range(0,len(ct)):\n",
    "        e = ord(ct[i])\n",
    "        plaintxt = chr(((e-97-key + 26)%26)+97)\n",
    "        plain += plaintxt\n",
    "        key = ord(plain[i])-97\n",
    "        \n",
    "    print(\"Plain Text Message is: {}\".format(plain))\n",
    "    \n",
    "def main():\n",
    "    print(\"Key and Message can only be alphabetic\")\n",
    "    choice = int(input(\"1. Encryption\\n2. Decryption\\nChoose(1,2): \"))\n",
    "    if choice == 1:\n",
    "        print(\"Encryption\")\n",
    "        pt = input(\"Enter Plain Text: \")\n",
    "        key = int(input(\"Enter your key: \"))\n",
    "        encr(pt,key)\n",
    "        \n",
    "    elif choice == 2:\n",
    "        print(\"Decryption\")\n",
    "        ct = input(\"Enter Cipher Text: \")\n",
    "        key = int(input(\"Enter your key: \"))\n",
    "        decr(ct,key)\n",
    "        \n",
    "    else:\n",
    "        print(\"Wrong choice\")\n",
    "\n",
    "if __name__ == \"__main__\":\n",
    "    main()"
   ]
  },
  {
   "cell_type": "code",
   "execution_count": null,
   "metadata": {},
   "outputs": [],
   "source": []
  }
 ],
 "metadata": {
  "kernelspec": {
   "display_name": "Python 3",
   "language": "python",
   "name": "python3"
  },
  "language_info": {
   "codemirror_mode": {
    "name": "ipython",
    "version": 3
   },
   "file_extension": ".py",
   "mimetype": "text/x-python",
   "name": "python",
   "nbconvert_exporter": "python",
   "pygments_lexer": "ipython3",
   "version": "3.7.6"
  }
 },
 "nbformat": 4,
 "nbformat_minor": 4
}
